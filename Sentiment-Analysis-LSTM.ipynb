{
 "cells": [
  {
   "cell_type": "markdown",
   "id": "06c58176",
   "metadata": {},
   "source": [
    "## Movie Review Sentiment Analysis \n",
    "\n",
    "Author: Zixi Liu"
   ]
  },
  {
   "cell_type": "markdown",
   "id": "33ffe35b",
   "metadata": {},
   "source": [
    "#### Research Question\n",
    "\n",
    "In this case study, we are provided with a dataset consisting 35,000 IMDB movie reviews, where each review is labeled as positive or negative. The goal is to build a binary classification model to predict the sentiment of a movie review based one new test data.\n",
    "\n",
    "#### Methods\n",
    "\n",
    "Since the task is a binary classification problem, the procedures to approach the problem are as follows:\n",
    "\n",
    "- Preprocessed the review texts by cleaning, normalizing and tokenizing (segmenting) texts to prepare for the text corpus;\n",
    "- Trained a standlone vocabulary list (less than 1000 rows) from word embedding base on the corpus using word2vec;\n",
    "- Built a sentiment analysis model based on Long short-term memory Netwok (LSTM), which is a Recurrent Neural Network (RNN) based model, in order to try to predict if an review is positive (1) or negative (0); Word embedding and sentiment are then fed into the LSTM model and train over cycles.\n",
    "- The classification performance was evaluated using the area under the ROC curve (AUC). Confusion matrix from the best performing model and performance improvement over training cycles are demonstrated.\n",
    "\n",
    "#### Data Prepararion"
   ]
  },
  {
   "cell_type": "code",
   "execution_count": 2,
   "id": "ae592d9c",
   "metadata": {},
   "outputs": [],
   "source": [
    "# Import libraries\n",
    "import os\n",
    "import pandas as pd\n",
    "import numpy as np\n",
    "from tqdm import tqdm\n",
    "import matplotlib\n",
    "import matplotlib.pyplot as plt\n",
    "plt.style.use('ggplot')\n",
    "import seaborn as sns\n",
    "sns.set(style='whitegrid')\n",
    "import re\n",
    "import logging\n",
    "FORMAT = '%(asctime)s %(clientip)-15s %(user)-8s %(message)s'\n",
    "logging.basicConfig(format=FORMAT)\n",
    "logger = logging.getLogger('tcpserver')"
   ]
  },
  {
   "cell_type": "code",
   "execution_count": 26,
   "id": "9247cb32",
   "metadata": {},
   "outputs": [
    {
     "data": {
      "text/html": [
       "<div>\n",
       "<style scoped>\n",
       "    .dataframe tbody tr th:only-of-type {\n",
       "        vertical-align: middle;\n",
       "    }\n",
       "\n",
       "    .dataframe tbody tr th {\n",
       "        vertical-align: top;\n",
       "    }\n",
       "\n",
       "    .dataframe thead th {\n",
       "        text-align: right;\n",
       "    }\n",
       "</style>\n",
       "<table border=\"1\" class=\"dataframe\">\n",
       "  <thead>\n",
       "    <tr style=\"text-align: right;\">\n",
       "      <th></th>\n",
       "      <th>id</th>\n",
       "      <th>sentiment</th>\n",
       "      <th>score</th>\n",
       "      <th>review</th>\n",
       "    </tr>\n",
       "  </thead>\n",
       "  <tbody>\n",
       "    <tr>\n",
       "      <th>0</th>\n",
       "      <td>1</td>\n",
       "      <td>1</td>\n",
       "      <td>10</td>\n",
       "      <td>Naturally in a film who's main themes are of m...</td>\n",
       "    </tr>\n",
       "    <tr>\n",
       "      <th>1</th>\n",
       "      <td>3</td>\n",
       "      <td>0</td>\n",
       "      <td>4</td>\n",
       "      <td>All in all, this is a movie for kids. We saw i...</td>\n",
       "    </tr>\n",
       "    <tr>\n",
       "      <th>2</th>\n",
       "      <td>4</td>\n",
       "      <td>0</td>\n",
       "      <td>2</td>\n",
       "      <td>Afraid of the Dark left me with the impression...</td>\n",
       "    </tr>\n",
       "    <tr>\n",
       "      <th>3</th>\n",
       "      <td>7</td>\n",
       "      <td>0</td>\n",
       "      <td>1</td>\n",
       "      <td>This has to be one of the biggest misfires eve...</td>\n",
       "    </tr>\n",
       "    <tr>\n",
       "      <th>4</th>\n",
       "      <td>8</td>\n",
       "      <td>0</td>\n",
       "      <td>2</td>\n",
       "      <td>This is one of those movies I watched, and won...</td>\n",
       "    </tr>\n",
       "  </tbody>\n",
       "</table>\n",
       "</div>"
      ],
      "text/plain": [
       "   id  sentiment  score                                             review\n",
       "0   1          1     10  Naturally in a film who's main themes are of m...\n",
       "1   3          0      4  All in all, this is a movie for kids. We saw i...\n",
       "2   4          0      2  Afraid of the Dark left me with the impression...\n",
       "3   7          0      1  This has to be one of the biggest misfires eve...\n",
       "4   8          0      2  This is one of those movies I watched, and won..."
      ]
     },
     "execution_count": 26,
     "metadata": {},
     "output_type": "execute_result"
    }
   ],
   "source": [
    "# Read and parse data\n",
    "df_train = pd.read_csv('C:/Users/zliu3/ds-take-home-challenge/movie_review_data.tsv', sep = '\\t')\n",
    "df_test = pd.read_csv('C:/Users/zliu3/ds-take-home-challenge/score_data.tsv', sep = '\\t')\n",
    "\n",
    "df_train.head()"
   ]
  },
  {
   "cell_type": "markdown",
   "id": "4107fed1",
   "metadata": {},
   "source": [
    "#### Check class balance\n",
    "\n",
    "Let's check class balance because if the training datasets are imbalanced, the trained classifier will tend to predict the test samples into a majority, making the recall of minority very low. However, we have a balanced training dataset (50% negative sentiments vs 50% positive sentiments)."
   ]
  },
  {
   "cell_type": "code",
   "execution_count": 207,
   "id": "c6bcc3df",
   "metadata": {},
   "outputs": [
    {
     "data": {
      "image/png": "[encoded data removed]",
      "text/plain": [
       "<Figure size 432x288 with 1 Axes>"
      ]
     },
     "metadata": {},
     "output_type": "display_data"
    }
   ],
   "source": [
    "#define data\n",
    "data = [df_train[df_train.sentiment == 0].sentiment.count()/df_train.sentiment.count(),\n",
    "        df_train[df_train.sentiment == 1].sentiment.count()/df_train.sentiment.count()]\n",
    "labels = ['0: Negative', '1: Positive']\n",
    "\n",
    "#define Seaborn color palette to use\n",
    "colors = sns.color_palette(\"tab10\")[1:3]\n",
    "\n",
    "#create pie chart\n",
    "plt.pie(data, labels = labels, colors = colors, autopct='%.0f%%')\n",
    "plt.show()"
   ]
  },
  {
   "cell_type": "markdown",
   "id": "7cb873a4",
   "metadata": {},
   "source": [
    "#### 1. Preprocess Texts\n",
    "\n",
    "Let's first clean up text reviews to normalize texts and remove noise as described below."
   ]
  },
  {
   "cell_type": "code",
   "execution_count": 5,
   "id": "8de11903",
   "metadata": {},
   "outputs": [],
   "source": [
    "def preprocess(reviews):\n",
    "    \"\"\"\n",
    "    This function takes a string as input, then performs these operations to clean texts: \n",
    "        - lowercase\n",
    "        - remove URLs \n",
    "        - remove br's\n",
    "        - removes punctuation\n",
    "        - removes any single character tokens\n",
    "    \"\"\" \n",
    "    # Lowercase the text\n",
    "    text = reviews.lower()\n",
    "    # Replace URLs with a space \n",
    "    text = re.sub('https?:\\/\\/[a-zA-Z0-9@:%._\\/+~#=?&;-]*', ' ', text)\n",
    "    # Replace HTML tags with a space, found <br />'s' in text reviews.\n",
    "    text = re.sub('<br ?/?>', ' ', text)\n",
    "    # Replace everything not a letter or apostrophe with a space\n",
    "    text = re.sub('[^a-zA-Z\\']', ' ', text)\n",
    "    # Remove single letter words\n",
    "    text = ' '.join( [w for w in text.split() if len(w)>1] )\n",
    "    return text\n",
    "        \n",
    "# Process for all reviews in training dataset\n",
    "preprocessed = [preprocess(reviews) for reviews in df_train['review']]"
   ]
  },
  {
   "cell_type": "markdown",
   "id": "dfa8e2b0",
   "metadata": {},
   "source": [
    "#### 2. Tokenize Texts\n",
    "\n",
    "Let's split strings of text reviews into smaller pieces, or “tokens”. We then remove stopwords since words like “we” and “are” probably do not help in sentiment analysis. We also lemmatize words because we want to remove inflectional endings and convert each word to its base or dictionary form. "
   ]
  },
  {
   "cell_type": "code",
   "execution_count": 6,
   "id": "40bff569",
   "metadata": {},
   "outputs": [
    {
     "name": "stderr",
     "output_type": "stream",
     "text": [
      "[nltk_data] Downloading package punkt to\n",
      "[nltk_data]     C:\\Users\\zliu3\\AppData\\Roaming\\nltk_data...\n",
      "[nltk_data]   Package punkt is already up-to-date!\n",
      "[nltk_data] Downloading package wordnet to\n",
      "[nltk_data]     C:\\Users\\zliu3\\AppData\\Roaming\\nltk_data...\n",
      "[nltk_data]   Package wordnet is already up-to-date!\n",
      "[nltk_data] Downloading package stopwords to\n",
      "[nltk_data]     C:\\Users\\zliu3\\AppData\\Roaming\\nltk_data...\n",
      "[nltk_data]   Package stopwords is already up-to-date!\n"
     ]
    }
   ],
   "source": [
    "from collections import Counter\n",
    "import nltk\n",
    "nltk.download('punkt')\n",
    "nltk.download('wordnet')\n",
    "nltk.download('stopwords')\n",
    "from nltk.tokenize import word_tokenize\n",
    "from nltk.corpus import stopwords\n",
    "\n",
    "def tokenize_text(text):\n",
    "    '''\n",
    "    Tokenize the input text as specified:\n",
    "    Use NLTK word_tokenize(), remove stop words and apply lemmatization\n",
    "    '''\n",
    "    words = [word for word in word_tokenize(text) if (word.isalpha()==1)]\n",
    "    # Remove stop words\n",
    "    stop = set(stopwords.words('english'))\n",
    "    words = [word for word in words if (word not in stop)]\n",
    "    # Lemmatize words (first noun, then verb)\n",
    "    wnl = nltk.stem.WordNetLemmatizer()\n",
    "    lemmatized = [wnl.lemmatize(wnl.lemmatize(word, 'n'), 'v') for word in words]\n",
    "    return lemmatized"
   ]
  },
  {
   "cell_type": "markdown",
   "id": "ab38d8d4",
   "metadata": {},
   "source": [
    "#### 3. Prepare Corpus and Train Word Embedding\n",
    "\n",
    "Let's use word embeddings, which represent words with short dense vectors, and n-gram language models to train a standalone vocabulary using word2vec. An n-gram is a sequence of n words: a 2-gram (which we’ll call bigram) is a two-word sequence of words, and a 3-gram (a trigram) is a three-word sequence of words. Since text reviews may contain word sequences that are useful, we want to consider word sequences when we construct the vocabulary list. So we first trained a trigram detector to learn multiword expressions.\n",
    "\n",
    "Then let's train the word2vec algorithm with the selection and setting of hyper-parameters as follows:\n",
    "- vector_size = 200 (represent words as 200-dimensional dense word vectors)\n",
    "- window set = 5 (maximum distance between the current and predicted word is 5)\n",
    "- min_count = 5 (ignores words with total frequency lower than 5)\n",
    "- sg = 0 (uses the Continuous Bag of Words Model (CBOW))\n",
    "- max_final_vocab = 1000 (limits the vocab to 1000 by automatically picking a matching min_count)"
   ]
  },
  {
   "cell_type": "code",
   "execution_count": 116,
   "id": "d3eb3141",
   "metadata": {},
   "outputs": [],
   "source": [
    "from gensim.models import Word2Vec, Phrases\n",
    "\n",
    "class MyCorpus(object):\n",
    "    \"\"\"\n",
    "    An iterator that yields tokenized texts.\n",
    "    \"\"\"\n",
    "    def __init__(self, texts):\n",
    "        self.texts = texts\n",
    "    \n",
    "    def __iter__(self):\n",
    "        for text in self.texts:\n",
    "            tokens = tokenize_text(text) \n",
    "            yield tokens\n",
    "            \n",
    "# Train a trigram detector.\n",
    "bigrams = Phrases(sentences=MyCorpus(preprocessed))\n",
    "trigrams = Phrases(sentences=bigrams[MyCorpus(preprocessed)])\n",
    "# Apply the trained MWE detector to a corpus, using the result to train a Word2vec model.\n",
    "model = Word2Vec(sentences=trigrams[bigrams[MyCorpus(preprocessed)]], vector_size=200, window=5, min_count=5, \n",
    "                 workers=4, max_final_vocab = 1000 )\n",
    "\n",
    "# Create vocab list\n",
    "words = list(model.wv.key_to_index.keys())"
   ]
  },
  {
   "cell_type": "code",
   "execution_count": 309,
   "id": "27f7af9d",
   "metadata": {},
   "outputs": [
    {
     "data": {
      "text/plain": [
       "[('dance', 0.21488942205905914),\n",
       " ('claim', 0.21197287738323212),\n",
       " ('clich', 0.20044128596782684),\n",
       " ('highly_recommend', 0.18041381239891052),\n",
       " ('jump', 0.18007250130176544),\n",
       " ('hey', 0.17712914943695068),\n",
       " ('child', 0.1728992611169815),\n",
       " ('victim', 0.17175671458244324),\n",
       " ('lovely', 0.17023514211177826),\n",
       " ('contain', 0.1676739603281021)]"
      ]
     },
     "execution_count": 309,
     "metadata": {},
     "output_type": "execute_result"
    }
   ],
   "source": [
    "# Explore similar words to \"wonderful\" in movie reviews. It makes sense that \"wonderful\" is similar to words like \"dance\",\n",
    "# \"highly_recommend\", and \"lovely\"...\n",
    "model.wv.most_similar('wonderful')"
   ]
  },
  {
   "cell_type": "code",
   "execution_count": 120,
   "id": "684727b7",
   "metadata": {},
   "outputs": [],
   "source": [
    "# Save vocab list\n",
    "with open('C:/Users/zliu3/ds-take-home-challenge/myvocab.txt', 'w') as f:\n",
    "    for w in words:\n",
    "        f.write(w)\n",
    "        f.write('\\n')"
   ]
  },
  {
   "cell_type": "code",
   "execution_count": 126,
   "id": "a3425e46",
   "metadata": {},
   "outputs": [],
   "source": [
    "import torch\n",
    "weights = torch.FloatTensor(model.wv.vectors) # prepare weight matrix for embedding layer in LSTM\n",
    "vocabulary = model.wv.key_to_index"
   ]
  },
  {
   "cell_type": "markdown",
   "id": "d6a17f8c",
   "metadata": {},
   "source": [
    "#### 4. Building Long short-term memory (LSTM) Model\n",
    "\n",
    "LSTM model is a RNN based network that addresses the vanishing gradient problem during backward pass of training. LSTM use specialized neural units that make use of the input gate, forget gate, and output gate to control the flow of information into and out of the units.\n",
    "\n",
    "The gates in LSTM are designed with the following pattern: each consists of a feedforward layer, followed by a sigmoid activation function, followed by a pointwise multiplication with the layer being gated. The choice of the sigmoid as the activation function is because we want to push its outputs to either 0 or 1. Then we combine this with a pointwise multiplication such that values in the layer being gated that align with values near 1 are passed through nearly unchanged, whereas values corresponding to lower values are essentially erased.\n",
    "\n",
    "The LSTM model (nn.LSTM) is defined with following hyper-parameters:\n",
    "- input_size = 200  (expected features in the input is 200-dimensional word vectors from embedding layer)\n",
    "- hidden_size = 400 (start with 2X of expected features = 400 features to remember for either short term or long term)\n",
    "- num_layers = 2 (stacking two LSTMs together to form a stacked LSTM, with the second LSTM taking in outputs of the first and computing the final results)\n",
    "- dropout = 0.2 (a dropout layer on the outputs of each LSTM layer except the last layer, with dropout probability equal to 0.2)\n",
    "\n",
    "Linear transformation (nn.Linear) is then applied to output features from the last layer of the LSTM and defined with following parameters:\n",
    "- in_features = 400 (size of hidden state, representing the hidden state produced by the LSTM)\n",
    "- out_features = 1 (Use 1 output node, given the choice of sigmoid activation function)\n"
   ]
  },
  {
   "cell_type": "code",
   "execution_count": 148,
   "id": "613846fa",
   "metadata": {},
   "outputs": [],
   "source": [
    "from torch import nn\n",
    "from torch.nn.utils.rnn import pack_padded_sequence, pad_packed_sequence\n",
    "\n",
    "# Define LSTM Model\n",
    "class LstmTextClassifier(nn.Module):\n",
    "    def __init__(self, embed_dim, embed_weights, hidden_dim, dense_dim, output_dim, lstm_layers=2, dropout=0.2):\n",
    "        \"\"\"\n",
    "        Initialize the model\n",
    "        \"\"\"\n",
    "        super().__init__()\n",
    "        self.embed_dim = embed_dim\n",
    "        self.hidden_dim = hidden_dim\n",
    "        self.dense_dim = dense_dim\n",
    "        self.output_dim = output_dim\n",
    "        self.lstm_layers = lstm_layers\n",
    "        self.dropout = dropout\n",
    "\n",
    "        self.embedding = nn.Embedding.from_pretrained(embed_weights) # Use our pretrained word embedding\n",
    "        self.lstm = nn.LSTM(embed_dim, hidden_dim, lstm_layers, dropout=dropout, batch_first=False)\n",
    "        self.dropout = nn.Dropout(dropout)\n",
    "        # Insert an additional fully connected when combining with other inputs\n",
    "        if dense_dim == 0:\n",
    "            self.fc = nn.Linear(hidden_dim, output_dim)\n",
    "        else:\n",
    "            self.fc1 = nn.Linear(hidden_dim, hidden_dim)\n",
    "            self.fc2 = nn.Linear(dense_dim, output_dim)\n",
    "        self.activation = nn.Sigmoid()\n",
    "\n",
    "    def init_hidden(self, batch_size):\n",
    "        \"\"\"\n",
    "        Initialize the hidden state\n",
    "        \"\"\"\n",
    "        weight = next(self.parameters()).data\n",
    "        hidden = (weight.new(self.lstm_layers, batch_size, self.hidden_dim).zero_(),\n",
    "                 weight.new(self.lstm_layers, batch_size, self.hidden_dim).zero_())\n",
    "\n",
    "        return hidden\n",
    "\n",
    "    def forward(self, nn_input_text, hidden_state):\n",
    "        \"\"\"\n",
    "        Perform a forward pass of the model on nn_input_text\n",
    "        \"\"\"\n",
    "        batch_size = nn_input_text.size(1)\n",
    "        nn_input_text = nn_input_text.long()\n",
    "        embeds = self.embedding(nn_input_text) \n",
    "        lstm_out, hidden_state = self.lstm(embeds, hidden_state)\n",
    "        # Stack up LSTM outputs, apply dropout\n",
    "        lstm_out = lstm_out[-1,:,:]\n",
    "        lstm_out = self.dropout(lstm_out)\n",
    "        \n",
    "        # Insert an additional fully connected when combining with other inputs\n",
    "        if self.dense_dim == 0:\n",
    "            out = self.fc(lstm_out)\n",
    "        else:\n",
    "            dense_out = self.fc1(lstm_out)\n",
    "            out = self.fc2(dense_out)\n",
    "        # Sigmoid\n",
    "        logps = self.activation(out)\n",
    "\n",
    "        return logps, hidden_state\n",
    "      \n",
    "     \n",
    "    # Define LSTM Tokenizer\n",
    "    def tokenizer_lstm(X, vocab_list, seq_len, padding):\n",
    "        '''\n",
    "        Returns tokenized tensor with left/right padding at the specified sequence length\n",
    "        '''\n",
    "        #print(vocab_list)\n",
    "        X_tmp = np.zeros((len(X), seq_len), dtype=np.int64)\n",
    "        for i, text in enumerate(X):\n",
    "            tokens = tokenize_text(text)\n",
    "            token_ids = [vocab_list[word] if word in words else None for word in trigrams[bigrams[tokens]]]\n",
    "            token_ids = list(filter(None.__ne__, token_ids))\n",
    "            end_idx = min(len(token_ids), seq_len)\n",
    "            if padding == 'right':\n",
    "                X_tmp[i,:end_idx] = token_ids[:end_idx]\n",
    "            elif padding == 'left':\n",
    "                start_idx = max(seq_len - len(token_ids), 0)\n",
    "                X_tmp[i,start_idx:] = token_ids[:end_idx]\n",
    "\n",
    "        return torch.tensor(X_tmp, dtype=torch.int64)"
   ]
  },
  {
   "cell_type": "code",
   "execution_count": 149,
   "id": "24e62579",
   "metadata": {},
   "outputs": [],
   "source": [
    "from torch.utils.data import DataLoader, Dataset\n",
    "\n",
    "# Define a DataSet Class which simply return (x, y) pair\n",
    "class SimpleDataset(Dataset):\n",
    "    def __init__(self, x, y):\n",
    "        self.datalist=[(x[i], y[i]) for i in range(len(y))]\n",
    "    def __len__(self):\n",
    "        return len(self.datalist)\n",
    "    def __getitem__(self,idx):\n",
    "        return self.datalist[idx]\n",
    "      \n",
    "    # Data Loader\n",
    "    def create_data_loader(X, y, indices, batch_size, shuffle):\n",
    "        X_sampled = np.array(X, dtype=object)[indices]\n",
    "        y_sampled = np.array(y)[indices].astype(int)\n",
    "        dataset = SimpleDataset(X_sampled, y_sampled)\n",
    "        loader = torch.utils.data.DataLoader(dataset, batch_size=batch_size, shuffle=shuffle)\n",
    "        return loader"
   ]
  },
  {
   "cell_type": "markdown",
   "id": "897befaa",
   "metadata": {},
   "source": [
    "#### 5. Define Sampling Cycle and Evaluation Metrics\n",
    "\n",
    "Let's load data with Stratified sampling (StratifiedShuffleSplit) to ensure the proportion of distribution of class labels is almost even between train and test dataset. The parameters for stratified sampling are defined as follows:\n",
    "\n",
    "- n_splits = 1 (one re-shuffling & splitting iteration)\n",
    "- train_size = [25000/35000] (represent the proportion of the dataset to include in the train split)\n",
    "- random_state = 10 (for reproducible output across 10 function calls)\n",
    "\n",
    "Define the evaluation metrics as AUC (Area Under The Curve), which measures the capability of a model to distinguish between classes in classification problems. The higher the AUC, the better the model is at predicting 0 classes as 0 and 1 classes as 1."
   ]
  },
  {
   "cell_type": "code",
   "execution_count": 162,
   "id": "957a604b",
   "metadata": {},
   "outputs": [],
   "source": [
    "from sklearn.model_selection import StratifiedShuffleSplit\n",
    "import torch.nn.functional as F\n",
    "from torch.autograd import Variable\n",
    "\n",
    "\n",
    "def train_cycles(X_all, y_all, vocab_list, weight_matrix, num_samples, epochs, patience, batch_size, seq_len, \n",
    "                 lr, clip, log_level):\n",
    "    result = pd.DataFrame(columns=['Accuracy', 'Auc(macro)', 'Total_Time', 'ms/text'], index=num_samples)\n",
    "\n",
    "    for n in num_samples:\n",
    "        print(\"\")\n",
    "    #logger.info(\"############### Start training for %d samples ###############\" %n)\n",
    "\n",
    "    # Stratified sampling\n",
    "    train_size = n / (len(y_all))\n",
    "    sss = StratifiedShuffleSplit(n_splits=1, train_size=train_size, random_state=10)\n",
    "    train_indices, valid_indices = next(sss.split(X_all, y_all))\n",
    "\n",
    "    # Sample input data\n",
    "    train_loader = SimpleDataset.create_data_loader(X_all, y_all, train_indices, batch_size, True)\n",
    "    valid_loader = SimpleDataset.create_data_loader(X_all, y_all, valid_indices, batch_size, False)\n",
    "\n",
    "    model = LstmTextClassifier(embed_dim=200, embed_weights=weight_matrix, hidden_dim=400, dense_dim=0, \n",
    "                               output_dim=1, lstm_layers=4, dropout=0.2)\n",
    "    model.embedding.weight.data.uniform_(-1, 1) # setting embedding weights with an uniform distribution\n",
    "\n",
    "    start_time = time.perf_counter() # use time.process_time() for CPU time\n",
    "    acc, auc_score, model_trained = train_nn_model(model, train_loader, valid_loader, vocab_list, epochs, \n",
    "                                                   patience, batch_size, seq_len, lr, clip, log_level)\n",
    "    end_time = time.perf_counter() # use time.process_time() for CPU time\n",
    "    duration = end_time - start_time\n",
    "    logger.info(\"Process Time (sec): {}\".format(duration))\n",
    "    result.loc[n] = (round(acc,4), round(auc_score,4), duration, duration/n*1000)\n",
    "\n",
    "    return result, model_trained\n",
    "\n",
    "# Define evaluation metrics\n",
    "from sklearn.metrics import accuracy_score, roc_curve, auc\n",
    "\n",
    "def metric(y_true, y_pred_in):\n",
    "    \n",
    "    # Define class = 1 if pred >=0.5, class = 0 if pred < 0.5\n",
    "    y_pred = [1 if pred >= 0.5 else 0 for pred in y_pred_in]\n",
    "    acc = accuracy_score(y_true, y_pred)\n",
    "    # AUC score\n",
    "    fpr, tpr, thresholds = roc_curve(y_true, y_pred)\n",
    "    auc_score = auc(fpr, tpr)\n",
    "    return acc,  auc_score"
   ]
  },
  {
   "cell_type": "markdown",
   "id": "a5f47c8c",
   "metadata": {},
   "source": [
    "#### 6. Train LSTM model \n",
    "\n",
    "Let's train our LSTM model with gradient based optimization and update weights using the backpropagation of error algorithm. We define the loss function as nn.BCELoss() that measures Binary Cross Entropy between the target and the input probabilities because our target here is between 0 and 1. We evaluate model performance with AUC score and train the model until AUC score stops improving. Here, we use a patience number which specify the number of epochs for the training to be continued after the first halt of model improvement."
   ]
  },
  {
   "cell_type": "code",
   "execution_count": 211,
   "id": "0a067d13",
   "metadata": {},
   "outputs": [],
   "source": [
    "from transformers import AdamW as AdamW_HF, get_linear_schedule_with_warmup\n",
    "from sklearn.metrics import confusion_matrix\n",
    "import time\n",
    "\n",
    "def train_nn_model(model, train_loader, valid_loader, vocab_list, epochs, patience, batch_size, seq_len,\n",
    "                   lr, clip, log_level):\n",
    "    # Set variables\n",
    "    logger = set_logger('imdb_reviews_inperf', log_level)\n",
    "    num_total_opt_steps = int(len(train_loader) * epochs)\n",
    "    eval_every = len(train_loader) // 5\n",
    "    warm_up_proportion = 0.1\n",
    "    logger.info('Total Training Steps: {} ({} batches x {} epochs)'.format(num_total_opt_steps, len(train_loader), epochs))\n",
    "\n",
    "    # Set device\n",
    "    device = torch.device('cuda' if torch.cuda.is_available() else 'cpu')\n",
    "    model = model.to(device)\n",
    "    optimizer = AdamW_HF(model.parameters(), lr=lr, correct_bias=False) \n",
    "    scheduler = get_linear_schedule_with_warmup(optimizer, num_warmup_steps=num_total_opt_steps*warm_up_proportion, \n",
    "                                                num_training_steps=num_total_opt_steps)  # PyTorch scheduler\n",
    "    criterion = nn.BCELoss()\n",
    "    \n",
    "    # Set Train Mode\n",
    "    model.train()\n",
    "    # Initialise\n",
    "    acc_train, auc_train, loss_train, acc_valid, auc_valid, loss_valid = [], [], [], [], [], []\n",
    "    best_auc, early_stop, steps = 0, 0, 0\n",
    "    class_names = ['0: Negative', '1: Positive']\n",
    "\n",
    "    for epoch in tqdm(range(epochs), desc=\"Epoch\"):\n",
    "        logger.info('================     epoch {}     ==============='.format(epoch+1))\n",
    "        start_time = time.time()\n",
    "        #################### Training ####################\n",
    "        # Initialise\n",
    "        loss_tmp, loss_cnt = 0, 0\n",
    "        y_pred_tmp, y_truth_tmp = [], []\n",
    "        hidden = model.init_hidden(batch_size)\n",
    "\n",
    "        for i, batch in enumerate(train_loader):\n",
    "            text_batch, labels = batch\n",
    "\n",
    "            # Skip the last batch of which size is not equal to batch_size\n",
    "            if labels.size(0) != batch_size:\n",
    "                break\n",
    "            steps += 1\n",
    "           \n",
    "            # Reset gradient\n",
    "            model.zero_grad()\n",
    "            optimizer.zero_grad()\n",
    "\n",
    "            # Initialise after the previous training\n",
    "            if steps % eval_every == 1:\n",
    "                y_pred_tmp, y_truth_tmp = [], []\n",
    "\n",
    "            # Tokenize the input and move to device\n",
    "            text_batch = LstmTextClassifier.tokenizer_lstm(text_batch, vocab_list, seq_len, \n",
    "                                                           padding='left').transpose(1,0).to(device)\n",
    "            labels = torch.tensor(labels, dtype=torch.int64).to(device)\n",
    "\n",
    "            # Creating new variables for the hidden state to avoid backprop entire training history\n",
    "            hidden = tuple([each.data for each in hidden])\n",
    "            for each in hidden:\n",
    "                each.to(device)\n",
    "\n",
    "            # Get output and hidden state from the model, calculate the loss\n",
    "            logits, hidden = model(text_batch, hidden)\n",
    "            loss = criterion(torch.squeeze(logits), labels.float())\n",
    "\n",
    "            y_pred_tmp.extend(logits)\n",
    "            y_truth_tmp.extend(labels.cpu().numpy())\n",
    "\n",
    "            # Back prop\n",
    "            loss.backward()\n",
    "\n",
    "            # Training Loss\n",
    "            loss_tmp += loss.item()\n",
    "            loss_cnt += 1\n",
    "\n",
    "            # Clip the gradient to prevent the exploading gradient problem in RNN/LSTM\n",
    "            nn.utils.clip_grad_norm_(model.parameters(), clip)\n",
    "\n",
    "            # Update Weights and Learning Rate\n",
    "            optimizer.step()\n",
    "            scheduler.step()\n",
    "            \n",
    "\n",
    "            #################### Evaluation ####################\n",
    "            if (steps % eval_every == 0) or ((steps % eval_every != 0) and (steps == len(train_loader))):\n",
    "                # Evaluate Training\n",
    "                acc, auc_score = metric(y_truth_tmp, y_pred_tmp)\n",
    "                acc_train.append(acc)\n",
    "                #f1_train.append(f1)\n",
    "                auc_train.append(auc_score)\n",
    "                loss_train.append(loss_tmp/loss_cnt)\n",
    "                loss_tmp, loss_cnt = 0, 0\n",
    "\n",
    "                y_truth_tmp, y_pred_tmp = [], []\n",
    "\n",
    "                # Move to Evaluation Mode\n",
    "                model.eval()\n",
    "\n",
    "                with torch.no_grad():\n",
    "                    for i, batch in enumerate(valid_loader):\n",
    "                        text_batch, labels = batch\n",
    "                        # Skip the last batch of which size is not equal to batch_size\n",
    "                        if labels.size(0) != batch_size:\n",
    "                            break\n",
    "\n",
    "                        # Tokenize the input and move to device\n",
    "                        text_batch = LstmTextClassifier.tokenizer_lstm(text_batch, vocab_list, seq_len,\n",
    "                                                                       padding='left').transpose(1,0).to(device)\n",
    "                        labels = torch.tensor(labels, dtype=torch.int64).to(device)\n",
    "\n",
    "                        # Creating new variables for the hidden state to avoid backprop entire training history\n",
    "                        hidden = tuple([each.data for each in hidden])\n",
    "                        for each in hidden:\n",
    "                            each.to(device)\n",
    "\n",
    "                        # Get output and hidden state from the model, calculate the loss\n",
    "                        logits, hidden = model(text_batch, hidden)\n",
    "                        loss = criterion(torch.squeeze(logits), labels.float())\n",
    "                    \n",
    "                        loss_tmp += loss.item()\n",
    "                        loss_cnt += 1\n",
    "                        \n",
    "                        y_pred_tmp.extend(logits)\n",
    "                        y_truth_tmp.extend(labels.cpu().numpy())\n",
    "\n",
    "                acc, auc_score = metric(y_truth_tmp, y_pred_tmp)\n",
    "                logger.debug(\"Epoch: {}/{}, Step: {}, Loss: {:.4f}, Acc: {:.4f}, AUC: {:.4f}\".format(epoch+1, epochs,\n",
    "                                                                                     steps, loss_tmp, acc, auc_score))\n",
    "                acc_valid.append(acc)\n",
    "                auc_valid.append(auc_score)\n",
    "                loss_valid.append(loss_tmp/loss_cnt)\n",
    "                loss_tmp, loss_cnt = 0, 0\n",
    "               \n",
    "                # Back to train mode\n",
    "                model.train()\n",
    "        \n",
    "        #################### End of each epoch ####################\n",
    "      \n",
    "        # Show the last evaluation metrics\n",
    "        logger.info('Epoch: %d, Loss: %.4f, Acc: %.4f, AUC: %.4f, LR: %.2e' % (epoch+1, loss_valid[-1], acc_valid[-1], \n",
    "                                                                               auc_valid[-1], scheduler.get_last_lr()[0]))\n",
    "        end_time = time.time()\n",
    "        epoch_secs = end_time - start_time \n",
    "        print(f'Epoch: {epoch+1:02} | Epoch Time: {epoch_secs/60:.2f}mins')\n",
    "        print(f'\\tTrain Loss: {loss_train[-1]:.3f} | Train AUC: {acc_train[-1]*100:.2f}%')\n",
    "        print(f'\\t Val. Loss: {loss_valid[-1]:.3f} |  Val. AUC: {auc_valid[-1]*100:.2f}%')\n",
    "\n",
    "        # If improving, save the number. If not, count up for early stopping\n",
    "        if best_auc < auc_valid[-1]:\n",
    "            early_stop = 0\n",
    "            best_auc = auc_valid[-1]\n",
    "        else:\n",
    "            early_stop += 1\n",
    "\n",
    "        # Early stop if it reaches patience number\n",
    "        if early_stop >= patience:\n",
    "            # plot training performance\n",
    "            y_truth_class = [class_names[int(idx)] for idx in y_truth_tmp]\n",
    "            y_predicted_class = [class_names[1] if idx >= 0.5 else class_names[0] for idx in y_pred_tmp]\n",
    "            cf = confusion_matrix(y_truth_class, y_predicted_class, labels=[\"0: Negative\", \"1: Positive\"])\n",
    "            sns.heatmap(cf , annot=True, fmt=\".0f\", annot_kws={\"size\": 16}) # font size\n",
    "            plt.show()\n",
    "        \n",
    "            fig, (ax1, ax2) = plt.subplots(1, 2, figsize=(14,6))\n",
    "            ax1.set_title(\"Losses\")\n",
    "            ax1.set_xlabel(\"Validation Cycle\")\n",
    "            ax1.set_ylabel(\"Loss\")\n",
    "            ax1.plot(loss_train, 'b-o', label='Train Loss')\n",
    "            ax1.plot(loss_valid, 'r-o', label='Valid Loss')\n",
    "            ax1.legend(loc=\"upper right\")\n",
    "        \n",
    "            ax2.set_title(\"Evaluation\")\n",
    "            ax2.set_xlabel(\"Validation Cycle\")\n",
    "            ax2.set_ylabel(\"Score\")\n",
    "            ax2.set_ylim(0,1)\n",
    "            ax2.plot(auc_train, 'y--', label='AUC Score (train)')\n",
    "            ax2.plot(auc_valid, 'g--', label='AUC Score (valid)')\n",
    "            ax2.legend(loc=\"upper left\")\n",
    "\n",
    "            plt.show()\n",
    "            break\n",
    "\n",
    "        # Prepare for the next epoch\n",
    "        if device == 'cuda:0':\n",
    "            torch.cuda.empty_cache()\n",
    "        model.train()\n",
    "\n",
    "    return acc, auc_score, model"
   ]
  },
  {
   "cell_type": "code",
   "execution_count": 215,
   "id": "02fb4736",
   "metadata": {
    "scrolled": false
   },
   "outputs": [
    {
     "name": "stdout",
     "output_type": "stream",
     "text": [
      "\n"
     ]
    },
    {
     "name": "stderr",
     "output_type": "stream",
     "text": [
      "Epoch:  10%|████████████▍                                                                                                               | 1/10 [08:11<1:13:42, 491.43s/it]"
     ]
    },
    {
     "name": "stdout",
     "output_type": "stream",
     "text": [
      "Epoch: 01 | Epoch Time: 8.19mins\n",
      "\tTrain Loss: 0.589 | Train AUC: 70.05%\n",
      "\t Val. Loss: 0.567 |  Val. AUC: 70.11%\n"
     ]
    },
    {
     "name": "stderr",
     "output_type": "stream",
     "text": [
      "\r",
      "Epoch:  20%|████████████████████████▊                                                                                                   | 2/10 [17:10<1:09:16, 519.60s/it]"
     ]
    },
    {
     "name": "stdout",
     "output_type": "stream",
     "text": [
      "Epoch: 02 | Epoch Time: 8.99mins\n",
      "\tTrain Loss: 0.519 | Train AUC: 74.74%\n",
      "\t Val. Loss: 0.532 |  Val. AUC: 73.91%\n"
     ]
    },
    {
     "name": "stderr",
     "output_type": "stream",
     "text": [
      "\r",
      "Epoch:  30%|█████████████████████████████████████▏                                                                                      | 3/10 [25:54<1:00:51, 521.63s/it]"
     ]
    },
    {
     "name": "stdout",
     "output_type": "stream",
     "text": [
      "Epoch: 03 | Epoch Time: 8.73mins\n",
      "\tTrain Loss: 0.456 | Train AUC: 79.81%\n",
      "\t Val. Loss: 0.479 |  Val. AUC: 76.54%\n"
     ]
    },
    {
     "name": "stderr",
     "output_type": "stream",
     "text": [
      "\r",
      "Epoch:  40%|██████████████████████████████████████████████████▍                                                                           | 4/10 [34:24<51:40, 516.75s/it]"
     ]
    },
    {
     "name": "stdout",
     "output_type": "stream",
     "text": [
      "Epoch: 04 | Epoch Time: 8.49mins\n",
      "\tTrain Loss: 0.439 | Train AUC: 80.11%\n",
      "\t Val. Loss: 0.472 |  Val. AUC: 77.47%\n",
      "Epoch: 05 | Epoch Time: 8.61mins\n",
      "\tTrain Loss: 0.407 | Train AUC: 82.05%\n",
      "\t Val. Loss: 0.494 |  Val. AUC: 76.99%\n"
     ]
    },
    {
     "data": {
      "image/png": "[encoded data removed]",
      "text/plain": [
       "<Figure size 432x288 with 2 Axes>"
      ]
     },
     "metadata": {},
     "output_type": "display_data"
    },
    {
     "data": {
      "image/png": "[encoded data removed]",
      "text/plain": [
       "<Figure size 1008x432 with 2 Axes>"
      ]
     },
     "metadata": {},
     "output_type": "display_data"
    },
    {
     "name": "stderr",
     "output_type": "stream",
     "text": [
      "Epoch:  40%|█████████████████████████████████████████████████▌                                                                          | 4/10 [43:01<1:04:31, 645.29s/it]\n"
     ]
    },
    {
     "data": {
      "text/html": [
       "<div>\n",
       "<style scoped>\n",
       "    .dataframe tbody tr th:only-of-type {\n",
       "        vertical-align: middle;\n",
       "    }\n",
       "\n",
       "    .dataframe tbody tr th {\n",
       "        vertical-align: top;\n",
       "    }\n",
       "\n",
       "    .dataframe thead th {\n",
       "        text-align: right;\n",
       "    }\n",
       "</style>\n",
       "<table border=\"1\" class=\"dataframe\">\n",
       "  <thead>\n",
       "    <tr style=\"text-align: right;\">\n",
       "      <th></th>\n",
       "      <th>Accuracy</th>\n",
       "      <th>Auc(macro)</th>\n",
       "      <th>Total_Time</th>\n",
       "      <th>ms/text</th>\n",
       "    </tr>\n",
       "  </thead>\n",
       "  <tbody>\n",
       "    <tr>\n",
       "      <th>25000</th>\n",
       "      <td>0.7698</td>\n",
       "      <td>0.7699</td>\n",
       "      <td>2581.157203</td>\n",
       "      <td>103.246288</td>\n",
       "    </tr>\n",
       "  </tbody>\n",
       "</table>\n",
       "</div>"
      ],
      "text/plain": [
       "      Accuracy Auc(macro)   Total_Time     ms/text\n",
       "25000   0.7698     0.7699  2581.157203  103.246288"
      ]
     },
     "execution_count": 215,
     "metadata": {},
     "output_type": "execute_result"
    }
   ],
   "source": [
    "import config\n",
    "import torch\n",
    "from time import perf_counter\n",
    "import warnings\n",
    "warnings.filterwarnings(\"ignore\")\n",
    "def set_logger(file_name, TMPDIR):\n",
    "    logging.basicConfig(level=logging.DEBUG)\n",
    "    formatter_fh = logging.Formatter('%(asctime)-15s::%(module)s:%(funcName)s: %(levelname)-7s - %(message)s')\n",
    "    formatter_ch = logging.Formatter('%(levelname)s::%(module)s::%(funcName)s: %(message)s')\n",
    "    ch = logging.StreamHandler()\n",
    "    ch.setLevel(logging.DEBUG)\n",
    "    ch.setFormatter(formatter_ch)\n",
    "    log = logging.getLogger(__name__)\n",
    "    log.addHandler(ch)\n",
    "    return log \n",
    "\n",
    "# Define the training parameters\n",
    "# These parameters can be fine tuned to achieve better model performance.\n",
    "num_samples = [25000]\n",
    "epochs=10\n",
    "patience=1 # normally patience is set to 3 but use patience = 1 for case study.\n",
    "batch_size=64 # number of samples per gradient update\n",
    "seq_len = 30 # sequence length for tokenized tensor\n",
    "lr=3e-4 # learning rate for optimization algorithm\n",
    "clip=5 # clip the gradient to prevent the exploading gradient\n",
    "log_level=logging.DEBUG\n",
    "\n",
    "# Run training cycles\n",
    "result_lstm, model_trained_lstm = train_cycles(pd.Series(preprocessed), df_train['sentiment'], vocabulary, weights, \n",
    "                                               num_samples, epochs, patience, batch_size, seq_len, lr, clip, log_level)\n",
    "\n",
    "# Save the model and show the result\n",
    "output_dir = \"C:/Users/zliu3/ds-take-home-challenge/\"\n",
    "torch.save(model_trained_lstm.state_dict(), output_dir + 'sentiments_lstm3.dict')\n",
    "result_lstm"
   ]
  },
  {
   "cell_type": "markdown",
   "id": "fac104ce",
   "metadata": {},
   "source": [
    "#### Summary\n",
    "\n",
    "After training 5 epochs, our model performance (AUC score) stops improving so we early stopped after the fifth training epoch. Inspecting train loss vs validation loss and train AUC score vs validation AUC score over 5 epoches, the model starts overfitting to the training data from the fourth epoch (validation cycle = 15). Since we overfit from the fourth cycle, so three epochs will be the best."
   ]
  },
  {
   "cell_type": "code",
   "execution_count": 313,
   "id": "9b01ee75",
   "metadata": {},
   "outputs": [
    {
     "data": {
      "text/plain": [
       "LstmTextClassifier(\n",
       "  (embedding): Embedding(996, 200)\n",
       "  (lstm): LSTM(200, 400, num_layers=4, dropout=0.2)\n",
       "  (dropout): Dropout(p=0.2, inplace=False)\n",
       "  (fc): Linear(in_features=400, out_features=1, bias=True)\n",
       "  (activation): Sigmoid()\n",
       ")"
      ]
     },
     "execution_count": 313,
     "metadata": {},
     "output_type": "execute_result"
    }
   ],
   "source": [
    "# View LSTM model structure\n",
    "model_trained_lstm.eval()"
   ]
  },
  {
   "cell_type": "markdown",
   "id": "aeb993b3",
   "metadata": {},
   "source": [
    "#### 7. Run Predictions\n",
    "\n",
    "Make predictions on text reviews in test data set using our trained model and pre-trained vocabulary."
   ]
  },
  {
   "cell_type": "code",
   "execution_count": 324,
   "id": "56fe26e5",
   "metadata": {},
   "outputs": [],
   "source": [
    "# Define a function to retun the prediction\n",
    "import torch.nn.functional as F\n",
    "def predict(text, model, batch_size = 50):\n",
    "    \"\"\" \n",
    "    Make a prediction on a test data.\n",
    "    Parameters\n",
    "    ----------\n",
    "        text : The texts to make a prediction on.\n",
    "        model : The model to use for making the prediction.\n",
    "    Returns\n",
    "    -------\n",
    "        y_pred : Prediction vector\n",
    "    \"\"\"   \n",
    "    # Set device\n",
    "    device = torch.device('cuda' if torch.cuda.is_available() else 'cpu')\n",
    "    \n",
    "    preprocessed_text = [preprocess(reviews) for reviews in text]\n",
    "    y_pred = []\n",
    "    hidden = model.init_hidden(batch_size)\n",
    " \n",
    "    X_test = torch.utils.data.DataLoader(preprocessed_text, batch_size, shuffle=False)\n",
    "    for i, text_batch in enumerate(X_test):\n",
    "        inputs = LstmTextClassifier.tokenizer_lstm(text_batch, vocabulary, seq_len = 30, \n",
    "                                                   padding='left').transpose(1,0).to(device)\n",
    "        hidden = tuple([each.to(device) for each in hidden])\n",
    "        outputs, hidden = model(inputs, hidden)\n",
    "        y_pred.extend(outputs.cpu().detach().numpy())\n",
    "    \n",
    "    return y_pred"
   ]
  },
  {
   "cell_type": "code",
   "execution_count": 321,
   "id": "fbdf47f4",
   "metadata": {},
   "outputs": [],
   "source": [
    "pred = []\n",
    "pred = predict(df_test['review'], model_trained_lstm, batch_size = 50)"
   ]
  },
  {
   "cell_type": "code",
   "execution_count": 322,
   "id": "383e973a",
   "metadata": {},
   "outputs": [
    {
     "data": {
      "text/html": [
       "<div>\n",
       "<style scoped>\n",
       "    .dataframe tbody tr th:only-of-type {\n",
       "        vertical-align: middle;\n",
       "    }\n",
       "\n",
       "    .dataframe tbody tr th {\n",
       "        vertical-align: top;\n",
       "    }\n",
       "\n",
       "    .dataframe thead th {\n",
       "        text-align: right;\n",
       "    }\n",
       "</style>\n",
       "<table border=\"1\" class=\"dataframe\">\n",
       "  <thead>\n",
       "    <tr style=\"text-align: right;\">\n",
       "      <th></th>\n",
       "      <th>id</th>\n",
       "      <th>pred</th>\n",
       "    </tr>\n",
       "  </thead>\n",
       "  <tbody>\n",
       "    <tr>\n",
       "      <th>0</th>\n",
       "      <td>2</td>\n",
       "      <td>0.505246</td>\n",
       "    </tr>\n",
       "    <tr>\n",
       "      <th>1</th>\n",
       "      <td>5</td>\n",
       "      <td>0.805774</td>\n",
       "    </tr>\n",
       "    <tr>\n",
       "      <th>2</th>\n",
       "      <td>6</td>\n",
       "      <td>0.846566</td>\n",
       "    </tr>\n",
       "    <tr>\n",
       "      <th>3</th>\n",
       "      <td>12</td>\n",
       "      <td>0.089490</td>\n",
       "    </tr>\n",
       "    <tr>\n",
       "      <th>4</th>\n",
       "      <td>16</td>\n",
       "      <td>0.211734</td>\n",
       "    </tr>\n",
       "  </tbody>\n",
       "</table>\n",
       "</div>"
      ],
      "text/plain": [
       "   id      pred\n",
       "0   2  0.505246\n",
       "1   5  0.805774\n",
       "2   6  0.846566\n",
       "3  12  0.089490\n",
       "4  16  0.211734"
      ]
     },
     "execution_count": 322,
     "metadata": {},
     "output_type": "execute_result"
    }
   ],
   "source": [
    "df = pd.DataFrame({'id':df_test['id'].to_numpy(), 'pred':np.reshape(pred, (15000))})\n",
    "# Save predictions\n",
    "df.to_csv('C:/Users/zliu3/ds-take-home-challenge/mysubmission.txt', index=None, sep='\\t', mode='a')\n",
    "df.head()"
   ]
  },
  {
   "cell_type": "markdown",
   "id": "94450065",
   "metadata": {},
   "source": [
    "#### 8. Error Analysis\n",
    "\n",
    "We want to see some reviews that the LSTM model missclassified. There might be some semantic meaning loss in preprocessing steps. But the main challenge I see is the ambiguity caused by the inconsistency in the reviews. \n",
    "\n",
    "In the first example, the reviewer first claimed that the children loved the movie but later critiqued the movie was not subtle. Then again the reviewer said he/she would like to go watch the movie again with children. This ambiguity is creating some difficulty for us to classify the sentiment based on the trained vocabulary. It might be helpful to train a larger vocabulary list so that we can include word sequences that are rarer but useful to infer sentiments."
   ]
  },
  {
   "cell_type": "code",
   "execution_count": 351,
   "id": "bac1473a",
   "metadata": {},
   "outputs": [
    {
     "name": "stdout",
     "output_type": "stream",
     "text": [
      "Truth Predicted Prob Sentiment\n",
      "0\t1\t0.85\tall in all this is movie for kids we saw it tonight and my child loved it at one point my kid's excitement was so great that sitting was impossible however am great fan of milne's books which are very subtle and hide wry intelligence behind the childlike quality of its leading characters this film was not subtle it seems shame that disney cannot see the benefit of making movies from more of the stories contained in those pages although perhaps it doesn't have the permission to use them found myself wishing the theater was replaying winnie the pooh and tigger too instead the characters voices were very good was only really bothered by kanga the music however was twice as loud in parts than the dialog and incongruous to the film as for the story it was bit preachy and militant in tone overall was disappointed but would go again just to see the same excitement on my child's face liked lumpy's laugh\n",
      "1\t0\t0.46\tanother fantastic offering from the monkey island team and though it was long time coming and had to survive the departure of ron gilbert it's another worthy installment my only gripe is that it was little short seeming in comparison to the previous two though that might be because of glorious lack of disk swapping roll on mi\n",
      "0\t1\t0.74\tthis was included on the disk shorts volume rather dull collection of short films shorts are among my favorite style of films but somehow the people assembling this second collection had hard time finding quality content and it wasn't nearly as good as the first volume or other shorts collections this short film feels like it's woefully incomplete there is story but so much in unanswered that the viewer like me feels bit left out and unfulfilled the film begins with woman her boyfriend and her westie that's dog by the way going to lonely beach the lady speaks with an accent that at times is bit difficult to follow given that am hard of hearing sure would have loved if it had been closed captioned anyway the boyfriend goes for swim while she naps when she awakens her dog is gone she panics and makes the guy follow her all about looking for the dog they spend most of the time arguing and being disagreeable then out of the blue they stop to have sex later they find the dog end of story as far as the characters go both seemed rather dysfunctional and unlikable she was fussy and demanding lady and he seemed to have contempt for her when you wondered why they were together their little sex break showed what bond kept them together some might like the characterizations kept finding the people irritating and unreal more like caricatures than people you might meet or know also the payoff for all this just isn't worth the wait unless you want to see the guy naked\n",
      "1\t0\t0.23\twatched this flick on saturday afternoon cable man did it drag got the metaphors symbolism and all that stuff no didn't care one way or another about the sexuality of the characters but the pacing of the story and the scripting almost put me to sleep that is until ruth marshall got naked if you're breast man who is not homo phobic you may want to rent it ruth has lesbian sex scene that's pretty hot and then hetero sex scene that is notch higher than most standard movie fare her jiggly cups made the film worth the watch the mighty avatar\n"
     ]
    }
   ],
   "source": [
    "# Some error analysis\n",
    "print('Truth Predicted Prob Sentiment')\n",
    "y_hat = predict(df_train['review'][0:50], model_trained_lstm, batch_size = 50)\n",
    "y_pred = [1 if pred >= 0.5 else 0 for pred in y_hat]\n",
    "for x, y, z, m in zip(df_train['review'][0:20], df_train['sentiment'][0:20], y_pred, y_hat):\n",
    "    if y != int(z):\n",
    "        print('%d\\t%d\\t%0.2f\\t%s' % (y, z, m, (preprocess(x))))"
   ]
  },
  {
   "cell_type": "markdown",
   "id": "91fd7247",
   "metadata": {},
   "source": [
    "#### Computer System Infomation\n",
    "\n",
    "System Model:\tHP ZBook Studio G7 Mobile Workstation\n",
    "\n",
    "Processor:\tIntel(R) Core(TM) i7-10850H CPU @ 2.70GHz, 2712 Mhz, 6 Core(s), 12 Logical Processor(s)\n",
    "\n",
    "Installed Physical Memory (RAM)\t16.0 GB\n"
   ]
  }
 ],
 "metadata": {
  "kernelspec": {
   "display_name": "Tangos",
   "language": "python",
   "name": "tangos"
  },
  "language_info": {
   "codemirror_mode": {
    "name": "ipython",
    "version": 3
   },
   "file_extension": ".py",
   "mimetype": "text/x-python",
   "name": "python",
   "nbconvert_exporter": "python",
   "pygments_lexer": "ipython3",
   "version": "3.9.6"
  }
 },
 "nbformat": 4,
 "nbformat_minor": 5
}
